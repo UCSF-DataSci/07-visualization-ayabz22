{
 "cells": [
  {
   "cell_type": "code",
   "execution_count": 1,
   "metadata": {},
   "outputs": [],
   "source": [
    "import pandas as pd\n",
    "import matplotlib.pyplot as plt\n",
    "import seaborn as sns"
   ]
  },
  {
   "cell_type": "code",
   "execution_count": 2,
   "metadata": {},
   "outputs": [
    {
     "name": "stdout",
     "output_type": "stream",
     "text": [
      "  country  age  gender  year  population\n",
      "0     usa    0       1  1950     1835785\n",
      "1     usa    0       1  1951     1879034\n",
      "2     usa    0       1  1952     1907822\n",
      "3     usa    0       1  1953     1945242\n",
      "4     usa    0       1  1954     1991504\n"
     ]
    }
   ],
   "source": [
    "#read the data \n",
    "df_usa = pd.read_csv(\"/workspaces/07-visualization-ayabz22/ddf--datapoints--population--by--country--age--gender--year/ddf--datapoints--population--by--country-usa--age--gender--year.csv\")\n",
    "df_vgb = pd.read_csv(\"/workspaces/07-visualization-ayabz22/ddf--datapoints--population--by--country--age--gender--year/ddf--datapoints--population--by--country-vgb--age--gender--year.csv\")\n",
    "df_wsm= pd.read_csv(\"/workspaces/07-visualization-ayabz22/ddf--datapoints--population--by--country--age--gender--year/ddf--datapoints--population--by--country-wsm--age--gender--year.csv\")\n",
    "df_sdn = pd.read_csv(\"/workspaces/07-visualization-ayabz22/ddf--datapoints--population--by--country--age--gender--year/ddf--datapoints--population--by--country-sdn--age--gender--year.csv\")\n",
    "df_shn = pd.read_csv(\"/workspaces/07-visualization-ayabz22/ddf--datapoints--population--by--country--age--gender--year/ddf--datapoints--population--by--country-shn--age--gender--year.csv\")\n",
    "\n",
    "#combine them \n",
    "df = pd.concat([\n",
    "    df_usa,\n",
    "    df_vgb,\n",
    "    df_wsm,\n",
    "    df_sdn,\n",
    "    df_shn\n",
    "], axis=0, ignore_index=True) \n",
    "\n",
    "print(df.head())"
   ]
  }
 ],
 "metadata": {
  "kernelspec": {
   "display_name": "Python 3",
   "language": "python",
   "name": "python3"
  },
  "language_info": {
   "codemirror_mode": {
    "name": "ipython",
    "version": 3
   },
   "file_extension": ".py",
   "mimetype": "text/x-python",
   "name": "python",
   "nbconvert_exporter": "python",
   "pygments_lexer": "ipython3",
   "version": "3.12.1"
  }
 },
 "nbformat": 4,
 "nbformat_minor": 2
}
